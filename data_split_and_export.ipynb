{
  "nbformat": 4,
  "nbformat_minor": 0,
  "metadata": {
    "colab": {
      "provenance": [],
      "mount_file_id": "1JXo722YSem07aujf6NiVBU1CbdfYN87N",
      "authorship_tag": "ABX9TyMZX0u93hrv+1291Qk2HoRq",
      "include_colab_link": true
    },
    "kernelspec": {
      "name": "python3",
      "display_name": "Python 3"
    },
    "language_info": {
      "name": "python"
    }
  },
  "cells": [
    {
      "cell_type": "markdown",
      "metadata": {
        "id": "view-in-github",
        "colab_type": "text"
      },
      "source": [
        "<a href=\"https://colab.research.google.com/github/winklemad/data_split/blob/main/data_split_and_export.ipynb\" target=\"_parent\"><img src=\"https://colab.research.google.com/assets/colab-badge.svg\" alt=\"Open In Colab\"/></a>"
      ]
    },
    {
      "cell_type": "code",
      "execution_count": null,
      "metadata": {
        "id": "mzLiuGxckMQm"
      },
      "outputs": [],
      "source": [
        "#upload file\n",
        "from google.colab import files\n",
        "files.upload()"
      ]
    },
    {
      "cell_type": "code",
      "source": [
        "import pandas as pd"
      ],
      "metadata": {
        "id": "owuDhHDFkp80"
      },
      "execution_count": null,
      "outputs": []
    },
    {
      "cell_type": "code",
      "source": [
        "df = pd.read_excel(\"\")\n",
        "#File name here"
      ],
      "metadata": {
        "id": "ugrmKZHSksak"
      },
      "execution_count": null,
      "outputs": []
    },
    {
      "cell_type": "code",
      "source": [
        "df.head()"
      ],
      "metadata": {
        "id": "I5MxzmRXk2fT"
      },
      "execution_count": null,
      "outputs": []
    },
    {
      "cell_type": "code",
      "source": [
        "df.info()"
      ],
      "metadata": {
        "id": "n_f8BoSXk5Ej"
      },
      "execution_count": null,
      "outputs": []
    },
    {
      "cell_type": "code",
      "source": [
        "df['Column_name'].str.split(pat = ' ', expand = True)"
      ],
      "metadata": {
        "id": "N-RfjWd4k7Kz"
      },
      "execution_count": null,
      "outputs": []
    },
    {
      "cell_type": "code",
      "source": [
        "df[['0','1','2','3','4','5','6','7','8','9','10','11',\n",
        "    '12','13','14','15','16','17','18','19','20','21',\n",
        "    '22','23','24','25','26','27','28','29','30','31',\n",
        "    '32','33','34','35','36','37','38','39','40','41',\n",
        "    '42','43','44']] = df['Column_name'].str.split(pat = ' ', expand = True)"
      ],
      "metadata": {
        "id": "vnfaHYu3lCYz"
      },
      "execution_count": null,
      "outputs": []
    },
    {
      "cell_type": "code",
      "source": [
        "df.info()"
      ],
      "metadata": {
        "id": "dvLJTItAlWrz"
      },
      "execution_count": null,
      "outputs": []
    },
    {
      "cell_type": "code",
      "source": [
        "df.to_excel(\"/content/drive/MyDrive/Colab Notebooks/data.xlsx\")"
      ],
      "metadata": {
        "id": "ZJ9d0mealbTc"
      },
      "execution_count": null,
      "outputs": []
    },
    {
      "cell_type": "code",
      "source": [
        "from google.colab import drive\n",
        "drive.mount('/content/drive')"
      ],
      "metadata": {
        "colab": {
          "base_uri": "https://localhost:8080/"
        },
        "id": "PrycQcrnmxG3",
        "outputId": "7a6b4146-2802-48f6-ca1a-dfeedfaff9f7"
      },
      "execution_count": null,
      "outputs": [
        {
          "output_type": "stream",
          "name": "stdout",
          "text": [
            "Mounted at /content/drive\n"
          ]
        }
      ]
    },
    {
      "cell_type": "code",
      "source": [
        "fdsfs"
      ],
      "metadata": {
        "id": "dXEtANcwnggV"
      },
      "execution_count": null,
      "outputs": []
    }
  ]
}