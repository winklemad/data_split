{
  "nbformat": 4,
  "nbformat_minor": 0,
  "metadata": {
    "colab": {
      "provenance": [],
      "authorship_tag": "ABX9TyOZaZWmpIiQ+KAXFSmH2SgB",
      "include_colab_link": true
    },
    "kernelspec": {
      "name": "python3",
      "display_name": "Python 3"
    },
    "language_info": {
      "name": "python"
    }
  },
  "cells": [
    {
      "cell_type": "markdown",
      "metadata": {
        "id": "view-in-github",
        "colab_type": "text"
      },
      "source": [
        "<a href=\"https://colab.research.google.com/github/winklemad/data_split/blob/main/data_split_and_export.ipynb\" target=\"_parent\"><img src=\"https://colab.research.google.com/assets/colab-badge.svg\" alt=\"Open In Colab\"/></a>"
      ]
    },
    {
      "cell_type": "code",
      "execution_count": null,
      "metadata": {
        "id": "mzLiuGxckMQm"
      },
      "outputs": [],
      "source": [
        "#upload file\n",
        "from google.colab import files\n",
        "files.upload()"
      ]
    },
    {
      "cell_type": "code",
      "source": [
        "import pandas as pd"
      ],
      "metadata": {
        "id": "owuDhHDFkp80"
      },
      "execution_count": null,
      "outputs": []
    },
    {
      "cell_type": "code",
      "source": [
        "df = pd.read_excel(\"\")\n",
        "#File name here"
      ],
      "metadata": {
        "id": "ugrmKZHSksak"
      },
      "execution_count": null,
      "outputs": []
    },
    {
      "cell_type": "code",
      "source": [
        "df.head()"
      ],
      "metadata": {
        "id": "I5MxzmRXk2fT"
      },
      "execution_count": null,
      "outputs": []
    },
    {
      "cell_type": "code",
      "source": [
        "df.info()"
      ],
      "metadata": {
        "id": "n_f8BoSXk5Ej"
      },
      "execution_count": null,
      "outputs": []
    },
    {
      "cell_type": "code",
      "source": [
        "df['Column_name'].str.split(pat = ' ', expand = True)"
      ],
      "metadata": {
        "id": "N-RfjWd4k7Kz"
      },
      "execution_count": null,
      "outputs": []
    },
    {
      "cell_type": "code",
      "source": [
        "df[['0','1','2','3','4','5','6','7','8','9','10','11',\n",
        "    '12','13','14','15','16','17','18','19','20','21',\n",
        "    '22','23','24','25','26','27','28','29','30','31',\n",
        "    '32','33','34','35','36','37','38','39','40','41',\n",
        "    '42','43','44']] = df['Column_name'].str.split(pat = ' ', expand = True)"
      ],
      "metadata": {
        "id": "vnfaHYu3lCYz"
      },
      "execution_count": null,
      "outputs": []
    },
    {
      "cell_type": "code",
      "source": [
        "df.info()"
      ],
      "metadata": {
        "id": "dvLJTItAlWrz"
      },
      "execution_count": null,
      "outputs": []
    },
    {
      "cell_type": "code",
      "source": [
        "df.to_excel(\"data.xlsx\")"
      ],
      "metadata": {
        "id": "ZJ9d0mealbTc"
      },
      "execution_count": null,
      "outputs": []
    }
  ]
}